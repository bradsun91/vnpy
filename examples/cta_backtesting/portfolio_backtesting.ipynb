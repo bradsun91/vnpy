{
 "cells": [
  {
   "cell_type": "code",
   "execution_count": 7,
   "metadata": {},
   "outputs": [],
   "source": [
    "from vnpy_ctastrategy.backtesting import BacktestingEngine, OptimizationSetting\n",
    "from vnpy_ctastrategy.strategies.atr_rsi_strategy import AtrRsiStrategy\n",
    "from vnpy_ctastrategy.strategies.boll_channel_strategy import BollChannelStrategy\n",
    "from datetime import datetime"
   ]
  },
  {
   "cell_type": "code",
   "execution_count": 8,
   "metadata": {},
   "outputs": [],
   "source": [
    "def run_backtesting(strategy_class, setting, vt_symbol, interval, start, end, rate, slippage, size, pricetick, capital):\n",
    "    engine = BacktestingEngine()\n",
    "    engine.set_parameters(\n",
    "        vt_symbol=vt_symbol,\n",
    "        interval=interval,\n",
    "        start=start,\n",
    "        end=end,\n",
    "        rate=rate,\n",
    "        slippage=slippage,\n",
    "        size=size,\n",
    "        pricetick=pricetick,\n",
    "        capital=capital    \n",
    "    )\n",
    "    engine.add_strategy(strategy_class, setting)\n",
    "    engine.load_data()\n",
    "    engine.run_backtesting()\n",
    "    df = engine.calculate_result()\n",
    "    return df\n",
    "\n",
    "def show_portafolio(df):\n",
    "    engine = BacktestingEngine()\n",
    "    engine.calculate_statistics(df)\n",
    "    engine.show_chart(df)"
   ]
  },
  {
   "cell_type": "code",
   "execution_count": 9,
   "metadata": {},
   "outputs": [
    {
     "name": "stdout",
     "output_type": "stream",
     "text": [
      "2021-10-17 11:34:27.082511\t开始加载历史数据\n",
      "2021-10-17 11:34:27.083112\t加载进度：# [0%]\n",
      "2021-10-17 11:34:27.084287\t加载进度：# [9%]\n",
      "2021-10-17 11:34:27.084353\t加载进度：## [18%]\n",
      "2021-10-17 11:34:27.084399\t加载进度：### [28%]\n",
      "2021-10-17 11:34:27.084450\t加载进度：#### [37%]\n",
      "2021-10-17 11:34:27.084489\t加载进度：##### [46%]\n",
      "2021-10-17 11:34:27.084524\t加载进度：###### [55%]\n",
      "2021-10-17 11:34:27.084569\t加载进度：####### [65%]\n",
      "2021-10-17 11:34:27.084610\t加载进度：######## [74%]\n",
      "2021-10-17 11:34:27.085647\t加载进度：######### [83%]\n",
      "2021-10-17 11:34:27.085698\t加载进度：########## [92%]\n",
      "2021-10-17 11:34:27.085728\t历史数据加载完成，数据量：82\n",
      "2021-10-17 11:34:27.087205\t策略初始化完成\n",
      "2021-10-17 11:34:27.087758\t开始回放历史数据\n",
      "2021-10-17 11:34:27.088220\t回放进度：= [0%]\n",
      "2021-10-17 11:34:27.088469\t回放进度：== [10%]\n",
      "2021-10-17 11:34:27.088670\t回放进度：=== [20%]\n",
      "2021-10-17 11:34:27.089780\t回放进度：==== [30%]\n",
      "2021-10-17 11:34:27.090225\t回放进度：===== [40%]\n",
      "2021-10-17 11:34:27.090553\t回放进度：====== [50%]\n",
      "2021-10-17 11:34:27.090946\t回放进度：======= [60%]\n",
      "2021-10-17 11:34:27.091296\t回放进度：======== [70%]\n",
      "2021-10-17 11:34:27.091668\t回放进度：========= [80%]\n",
      "2021-10-17 11:34:27.091973\t回放进度：========== [90%]\n",
      "2021-10-17 11:34:27.092267\t回放进度：=========== [100%]\n",
      "2021-10-17 11:34:27.092328\t历史数据回放结束\n",
      "2021-10-17 11:34:27.092367\t开始计算逐日盯市盈亏\n",
      "2021-10-17 11:34:27.092398\t成交记录为空，无法计算\n"
     ]
    }
   ],
   "source": [
    "df1 = run_backtesting(\n",
    "    strategy_class=AtrRsiStrategy, \n",
    "    setting={}, \n",
    "    vt_symbol=\"ABBV.SMART\",\n",
    "    interval=\"d\", \n",
    "    start=datetime(2019, 1, 1), \n",
    "    end=datetime(2019, 4, 30),\n",
    "    rate=0.3/10000,\n",
    "    slippage=0.2,\n",
    "    size=300,\n",
    "    pricetick=0.2,\n",
    "    capital=1_000_000,\n",
    "    )"
   ]
  },
  {
   "cell_type": "code",
   "execution_count": 13,
   "metadata": {},
   "outputs": [
    {
     "name": "stdout",
     "output_type": "stream",
     "text": [
      "2021-10-17 11:35:14.229077\t开始加载历史数据\n",
      "2021-10-17 11:35:14.229444\t加载进度：# [0%]\n",
      "2021-10-17 11:35:14.229492\t加载进度：# [9%]\n",
      "2021-10-17 11:35:14.229528\t加载进度：## [18%]\n",
      "2021-10-17 11:35:14.229561\t加载进度：### [28%]\n",
      "2021-10-17 11:35:14.229593\t加载进度：#### [37%]\n",
      "2021-10-17 11:35:14.229624\t加载进度：##### [46%]\n",
      "2021-10-17 11:35:14.229656\t加载进度：###### [55%]\n",
      "2021-10-17 11:35:14.229687\t加载进度：####### [65%]\n",
      "2021-10-17 11:35:14.229718\t加载进度：######## [74%]\n",
      "2021-10-17 11:35:14.229749\t加载进度：######### [83%]\n",
      "2021-10-17 11:35:14.229781\t加载进度：########## [92%]\n",
      "2021-10-17 11:35:14.229811\t历史数据加载完成，数据量：82\n",
      "2021-10-17 11:35:14.232272\t策略初始化完成\n",
      "2021-10-17 11:35:14.232363\t开始回放历史数据\n",
      "2021-10-17 11:35:14.232633\t回放进度：= [0%]\n",
      "2021-10-17 11:35:14.233245\t回放进度：== [10%]\n",
      "2021-10-17 11:35:14.233471\t回放进度：=== [20%]\n",
      "2021-10-17 11:35:14.234002\t回放进度：==== [30%]\n",
      "2021-10-17 11:35:14.235297\t回放进度：===== [40%]\n",
      "2021-10-17 11:35:14.237269\t回放进度：====== [50%]\n",
      "2021-10-17 11:35:14.237817\t回放进度：======= [60%]\n",
      "2021-10-17 11:35:14.238857\t回放进度：======== [70%]\n",
      "2021-10-17 11:35:14.239502\t回放进度：========= [80%]\n",
      "2021-10-17 11:35:14.240143\t回放进度：========== [90%]\n",
      "2021-10-17 11:35:14.240356\t回放进度：=========== [100%]\n",
      "2021-10-17 11:35:14.240428\t历史数据回放结束\n",
      "2021-10-17 11:35:14.240469\t开始计算逐日盯市盈亏\n",
      "2021-10-17 11:35:14.240504\t成交记录为空，无法计算\n"
     ]
    }
   ],
   "source": [
    "df2 = run_backtesting(\n",
    "    strategy_class=AtrRsiStrategy, \n",
    "    setting={'fixed_size': 16}, \n",
    "    vt_symbol=\"ABT.SMART\",\n",
    "    interval=\"d\", \n",
    "    start=datetime(2019, 1, 1), \n",
    "    end=datetime(2019, 4, 30),\n",
    "    rate=1/10000,\n",
    "    slippage=1,\n",
    "    size=10,\n",
    "    pricetick=1,\n",
    "    capital=1_000_000,\n",
    "    )"
   ]
  },
  {
   "cell_type": "code",
   "execution_count": 11,
   "metadata": {},
   "outputs": [],
   "source": [
    "df1"
   ]
  },
  {
   "cell_type": "code",
   "execution_count": 12,
   "metadata": {},
   "outputs": [],
   "source": [
    "df2"
   ]
  },
  {
   "cell_type": "code",
   "execution_count": 15,
   "metadata": {},
   "outputs": [
    {
     "ename": "TypeError",
     "evalue": "unsupported operand type(s) for +: 'NoneType' and 'NoneType'",
     "output_type": "error",
     "traceback": [
      "\u001b[0;31m---------------------------------------------------------------------------\u001b[0m",
      "\u001b[0;31mTypeError\u001b[0m                                 Traceback (most recent call last)",
      "\u001b[0;32m<ipython-input-15-aff6de7ed614>\u001b[0m in \u001b[0;36m<module>\u001b[0;34m\u001b[0m\n\u001b[0;32m----> 1\u001b[0;31m \u001b[0mdfp\u001b[0m \u001b[0;34m=\u001b[0m \u001b[0mdf1\u001b[0m \u001b[0;34m+\u001b[0m \u001b[0mdf2\u001b[0m\u001b[0;34m\u001b[0m\u001b[0;34m\u001b[0m\u001b[0m\n\u001b[0m\u001b[1;32m      2\u001b[0m \u001b[0mdfp\u001b[0m \u001b[0;34m=\u001b[0m\u001b[0mdfp\u001b[0m\u001b[0;34m.\u001b[0m\u001b[0mdropna\u001b[0m\u001b[0;34m(\u001b[0m\u001b[0;34m)\u001b[0m\u001b[0;34m\u001b[0m\u001b[0;34m\u001b[0m\u001b[0m\n\u001b[1;32m      3\u001b[0m \u001b[0mshow_portafolio\u001b[0m\u001b[0;34m(\u001b[0m\u001b[0mdfp\u001b[0m\u001b[0;34m)\u001b[0m\u001b[0;34m\u001b[0m\u001b[0;34m\u001b[0m\u001b[0m\n",
      "\u001b[0;31mTypeError\u001b[0m: unsupported operand type(s) for +: 'NoneType' and 'NoneType'"
     ]
    }
   ],
   "source": [
    "dfp = df1 + df2\n",
    "dfp =dfp.dropna() \n",
    "show_portafolio(dfp)"
   ]
  },
  {
   "cell_type": "code",
   "execution_count": null,
   "metadata": {},
   "outputs": [],
   "source": []
  }
 ],
 "metadata": {
  "kernelspec": {
   "display_name": "Python 3",
   "language": "python",
   "name": "python3"
  },
  "language_info": {
   "codemirror_mode": {
    "name": "ipython",
    "version": 3
   },
   "file_extension": ".py",
   "mimetype": "text/x-python",
   "name": "python",
   "nbconvert_exporter": "python",
   "pygments_lexer": "ipython3",
   "version": "3.6.8"
  },
  "toc": {
   "base_numbering": 1,
   "nav_menu": {},
   "number_sections": true,
   "sideBar": true,
   "skip_h1_title": false,
   "title_cell": "Table of Contents",
   "title_sidebar": "Contents",
   "toc_cell": false,
   "toc_position": {},
   "toc_section_display": true,
   "toc_window_display": false
  }
 },
 "nbformat": 4,
 "nbformat_minor": 2
}

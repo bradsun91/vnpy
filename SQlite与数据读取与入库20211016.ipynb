{
 "cells": [
  {
   "cell_type": "markdown",
   "metadata": {},
   "source": [
    "# Tushare"
   ]
  },
  {
   "cell_type": "code",
   "execution_count": 8,
   "metadata": {},
   "outputs": [],
   "source": [
    "import tushare as ts\n",
    "from vnpy.trader.object import HistoryRequest,BarData\n",
    "from vnpy.trader.constant import Exchange\n",
    "from datetime import  datetime"
   ]
  },
  {
   "cell_type": "code",
   "execution_count": 12,
   "metadata": {},
   "outputs": [],
   "source": [
    "class TushareData:\n",
    "    def __init__(self):\n",
    "        ts.set_token('f54f66391ef9cf7675004be86d1ea74740d6df4df971cc10b3bbad91')\n",
    "        return\n",
    "    def exchange_bond(self,exchange:Exchange):\n",
    "        if exchange.value == \"SHFE\":\n",
    "            return \"SHF\"\n",
    "        elif exchange.value == \"CZCE\":\n",
    "            return  \"ZCE\"\n",
    "        else :\n",
    "            return  exchange.value\n",
    "        \n",
    "    def tuquery(self,req:HistoryRequest):\n",
    "        symbol = req.symbol\n",
    "        exchange = req.exchange\n",
    "        interval = req.interval\n",
    "        start = req.start.strftime('%Y%m%d')\n",
    "        end = req.end.strftime('%Y%m%d')\n",
    "        tcode = f'{symbol}'+'.'+ self.exchange_bond(exchange)\n",
    "        pro = ts.pro_api();\n",
    "        df = pro.fut_daily(ts_code= tcode, start_date= start, end_date= end)\n",
    "        data: List[BarData] = []\n",
    "\n",
    "        if df is not None:\n",
    "            for ix, row in df.iterrows():\n",
    "                date = datetime.strptime(row.trade_date,'%Y%m%d')\n",
    "                bar = BarData(\n",
    "                    symbol=symbol,\n",
    "                    exchange=exchange,\n",
    "                    interval=interval,\n",
    "                    datetime=date,\n",
    "                    open_price=row[\"open\"],\n",
    "                    high_price=row[\"high\"],\n",
    "                    low_price=row[\"low\"],\n",
    "                    close_price=row[\"close\"],\n",
    "                    volume=row[\"amount\"],\n",
    "                    gateway_name=\"TU\"\n",
    "                )\n",
    "                print(bar)\n",
    "                data.append(bar)\n",
    "        return data"
   ]
  },
  {
   "cell_type": "code",
   "execution_count": 13,
   "metadata": {},
   "outputs": [],
   "source": [
    "tusharedata = TushareData()"
   ]
  },
  {
   "cell_type": "code",
   "execution_count": 15,
   "metadata": {},
   "outputs": [],
   "source": [
    "tusharedata.exchange_bond?"
   ]
  },
  {
   "cell_type": "markdown",
   "metadata": {},
   "source": [
    "## 按照网页改完之后，运行主文件代码\n",
    "\n",
    "https://zhuanlan.zhihu.com/p/103834397?ivk_sa=1024320u"
   ]
  },
  {
   "cell_type": "code",
   "execution_count": 17,
   "metadata": {},
   "outputs": [
    {
     "data": {
      "text/plain": [
       "['/Users/miaoyuesun/.conda/envs/python36/lib/python36.zip',\n",
       " '/Users/miaoyuesun/.conda/envs/python36/lib/python3.6',\n",
       " '/Users/miaoyuesun/.conda/envs/python36/lib/python3.6/lib-dynload',\n",
       " '',\n",
       " '/Users/miaoyuesun/.local/lib/python3.6/site-packages',\n",
       " '/Users/miaoyuesun/.conda/envs/python36/lib/python3.6/site-packages',\n",
       " '/Users/miaoyuesun/.conda/envs/python36/lib/python3.6/site-packages/IPython/extensions',\n",
       " '/Users/miaoyuesun/.ipython',\n",
       " '/Users/miaoyuesun']"
      ]
     },
     "execution_count": 17,
     "metadata": {},
     "output_type": "execute_result"
    }
   ],
   "source": [
    "import sys\n",
    "sys.path"
   ]
  },
  {
   "cell_type": "code",
   "execution_count": 1,
   "metadata": {},
   "outputs": [],
   "source": [
    "from vnpy.event import EventEngine\n",
    "from vnpy.trader.engine import MainEngine\n",
    "# from vnpy.app.cta_backtester import CtaBacktesterApp\n",
    "from vnpy_ctabacktester import CtaBacktesterApp\n",
    "from datetime import datetime"
   ]
  },
  {
   "cell_type": "code",
   "execution_count": 4,
   "metadata": {},
   "outputs": [],
   "source": [
    "def main():\n",
    "    event_engine = EventEngine()\n",
    "    main_engine = MainEngine(event_engine)\n",
    "    app = CtaBacktesterApp\n",
    "    main_engine.add_app(app)\n",
    "    back_engine = main_engine.get_engine(\"CtaBacktester\")\n",
    "    back_engine.init_engine()\n",
    "    vt_symbol = \"fg1909.CZCE\"\n",
    "#     interval = \"d\"\n",
    "    interval = \"1m\"\n",
    "    start = datetime(2019,6,1)\n",
    "    end = datetime(2019,8,1)\n",
    "    back_engine.start_downloading(vt_symbol,interval,start,end)"
   ]
  },
  {
   "cell_type": "code",
   "execution_count": 5,
   "metadata": {},
   "outputs": [
    {
     "name": "stdout",
     "output_type": "stream",
     "text": [
      "==============\n",
      "ELSE TUSHARE DATA\n",
      "       ts_code trade_date  pre_close  pre_settle    open    high     low  \\\n",
      "42  FG1909.ZCE   20190603     1377.0      1378.0  1377.0  1386.0  1364.0   \n",
      "41  FG1909.ZCE   20190604     1377.0      1376.0  1377.0  1378.0  1358.0   \n",
      "40  FG1909.ZCE   20190605     1369.0      1366.0  1370.0  1382.0  1369.0   \n",
      "39  FG1909.ZCE   20190606     1374.0      1374.0  1374.0  1397.0  1366.0   \n",
      "38  FG1909.ZCE   20190610     1396.0      1381.0  1398.0  1418.0  1398.0   \n",
      "37  FG1909.ZCE   20190611     1404.0      1406.0  1410.0  1463.0  1410.0   \n",
      "36  FG1909.ZCE   20190612     1463.0      1450.0  1477.0  1486.0  1444.0   \n",
      "35  FG1909.ZCE   20190613     1448.0      1461.0  1448.0  1469.0  1448.0   \n",
      "34  FG1909.ZCE   20190614     1463.0      1459.0  1464.0  1471.0  1455.0   \n",
      "33  FG1909.ZCE   20190617     1463.0      1463.0  1466.0  1473.0  1453.0   \n",
      "32  FG1909.ZCE   20190618     1458.0      1462.0  1458.0  1472.0  1454.0   \n",
      "31  FG1909.ZCE   20190619     1466.0      1463.0  1468.0  1482.0  1461.0   \n",
      "30  FG1909.ZCE   20190620     1476.0      1474.0  1478.0  1497.0  1472.0   \n",
      "29  FG1909.ZCE   20190621     1487.0      1484.0  1487.0  1491.0  1480.0   \n",
      "28  FG1909.ZCE   20190624     1485.0      1486.0  1485.0  1495.0  1481.0   \n",
      "27  FG1909.ZCE   20190625     1489.0      1487.0  1486.0  1491.0  1484.0   \n",
      "26  FG1909.ZCE   20190626     1486.0      1487.0  1488.0  1517.0  1483.0   \n",
      "25  FG1909.ZCE   20190627     1508.0      1502.0  1502.0  1507.0  1493.0   \n",
      "24  FG1909.ZCE   20190628     1495.0      1501.0  1496.0  1510.0  1487.0   \n",
      "23  FG1909.ZCE   20190701     1492.0      1499.0  1496.0  1509.0  1487.0   \n",
      "22  FG1909.ZCE   20190702     1506.0      1500.0  1504.0  1520.0  1502.0   \n",
      "21  FG1909.ZCE   20190703     1508.0      1511.0  1505.0  1514.0  1480.0   \n",
      "20  FG1909.ZCE   20190704     1485.0      1496.0  1488.0  1493.0  1479.0   \n",
      "19  FG1909.ZCE   20190705     1488.0      1487.0  1489.0  1496.0  1474.0   \n",
      "18  FG1909.ZCE   20190708     1483.0      1485.0  1481.0  1490.0  1480.0   \n",
      "17  FG1909.ZCE   20190709     1489.0      1485.0  1489.0  1511.0  1489.0   \n",
      "16  FG1909.ZCE   20190710     1503.0      1503.0  1500.0  1501.0  1465.0   \n",
      "15  FG1909.ZCE   20190711     1484.0      1482.0  1487.0  1492.0  1483.0   \n",
      "14  FG1909.ZCE   20190712     1484.0      1487.0  1486.0  1486.0  1477.0   \n",
      "13  FG1909.ZCE   20190715     1485.0      1482.0  1486.0  1498.0  1474.0   \n",
      "12  FG1909.ZCE   20190716     1494.0      1485.0  1489.0  1506.0  1487.0   \n",
      "11  FG1909.ZCE   20190717     1497.0      1500.0  1500.0  1504.0  1490.0   \n",
      "10  FG1909.ZCE   20190718     1503.0      1497.0  1503.0  1506.0  1486.0   \n",
      "9   FG1909.ZCE   20190719     1488.0      1493.0  1486.0  1501.0  1483.0   \n",
      "8   FG1909.ZCE   20190722     1499.0      1493.0  1496.0  1498.0  1475.0   \n",
      "7   FG1909.ZCE   20190723     1478.0      1482.0  1475.0  1484.0  1471.0   \n",
      "6   FG1909.ZCE   20190724     1483.0      1478.0  1481.0  1491.0  1472.0   \n",
      "5   FG1909.ZCE   20190725     1488.0      1482.0  1491.0  1501.0  1483.0   \n",
      "4   FG1909.ZCE   20190726     1494.0      1494.0  1495.0  1505.0  1490.0   \n",
      "3   FG1909.ZCE   20190729     1498.0      1496.0  1499.0  1499.0  1473.0   \n",
      "2   FG1909.ZCE   20190730     1477.0      1485.0  1478.0  1484.0  1471.0   \n",
      "1   FG1909.ZCE   20190731     1474.0      1478.0  1473.0  1486.0  1469.0   \n",
      "0   FG1909.ZCE   20190801     1474.0      1478.0  1475.0  1481.0  1470.0   \n",
      "\n",
      "     close  settle  change1  change2       vol      amount        oi   oi_chg  \n",
      "42  1377.0  1376.0     -1.0     -2.0  246588.0   678417.45  276404.0   4058.0  \n",
      "41  1369.0  1366.0     -7.0    -10.0  242662.0   662979.02  289034.0  12630.0  \n",
      "40  1374.0  1374.0      8.0      8.0  151440.0   416260.12  282882.0  -6152.0  \n",
      "39  1396.0  1381.0     22.0      7.0  293260.0   809759.79  278072.0  -4810.0  \n",
      "38  1404.0  1406.0     23.0     25.0  188374.0   529845.83  273658.0  -4414.0  \n",
      "37  1463.0  1450.0     57.0     44.0  653362.0  1894104.91  353176.0  79518.0  \n",
      "36  1448.0  1461.0     -2.0     11.0  766886.0  2241456.03  288192.0 -64984.0  \n",
      "35  1463.0  1459.0      2.0     -2.0  363988.0  1062217.76  307830.0  19638.0  \n",
      "34  1463.0  1463.0      4.0      4.0  274166.0   802325.00  297300.0 -10530.0  \n",
      "33  1458.0  1462.0     -5.0     -1.0  300214.0   878045.98  292810.0  -4490.0  \n",
      "32  1466.0  1463.0      4.0      1.0  272778.0   798404.78  302056.0   9246.0  \n",
      "31  1476.0  1474.0     13.0     11.0  374480.0  1104340.90  334204.0  32148.0  \n",
      "30  1487.0  1484.0     13.0     10.0  424686.0  1260563.68  348460.0  14256.0  \n",
      "29  1485.0  1486.0      1.0      2.0  197388.0   586665.96  337032.0 -11428.0  \n",
      "28  1489.0  1487.0      3.0      1.0  177524.0   528080.31  333896.0  -3136.0  \n",
      "27  1486.0  1487.0     -1.0      0.0  130890.0   389326.59  333976.0     80.0  \n",
      "26  1508.0  1502.0     21.0     15.0  469244.0  1409216.14  369248.0  35272.0  \n",
      "25  1495.0  1501.0     -7.0     -1.0  212506.0   637809.14  333848.0 -35400.0  \n",
      "24  1492.0  1499.0     -9.0     -2.0  225086.0   674955.50  332380.0  -1468.0  \n",
      "23  1506.0  1500.0      7.0      1.0  200938.0   602930.06  343524.0  11144.0  \n",
      "22  1508.0  1511.0      8.0     11.0  289512.0   875189.42  356772.0  13248.0  \n",
      "21  1485.0  1496.0    -26.0    -15.0  348190.0  1041488.19  343570.0 -13202.0  \n",
      "20  1488.0  1487.0     -8.0     -9.0  220308.0   655028.66  335174.0  -8396.0  \n",
      "19  1483.0  1485.0     -4.0     -2.0  269876.0   801707.28  318960.0 -16214.0  \n",
      "18  1489.0  1485.0      4.0      0.0  171412.0   509075.76  301610.0 -17350.0  \n",
      "17  1503.0  1503.0     18.0     18.0  311700.0   937101.27  295230.0  -6380.0  \n",
      "16  1484.0  1482.0    -19.0    -21.0  444116.0  1316512.39  289894.0  -5336.0  \n",
      "15  1484.0  1487.0      2.0      5.0  164858.0   490217.30  275996.0 -13898.0  \n",
      "14  1485.0  1482.0     -2.0     -5.0  168002.0   498020.67  280780.0   4784.0  \n",
      "13  1494.0  1485.0     12.0      3.0  222278.0   660263.53  266898.0 -13882.0  \n",
      "12  1497.0  1500.0     12.0     15.0  144766.0   434267.76  272482.0   5584.0  \n",
      "11  1503.0  1497.0      3.0     -3.0  139248.0   416920.53  268236.0  -4246.0  \n",
      "10  1488.0  1493.0     -9.0     -4.0  141746.0   423269.61  251340.0 -16896.0  \n",
      "9   1499.0  1493.0      6.0      0.0  169850.0   507284.79  253348.0   2008.0  \n",
      "8   1478.0  1482.0    -15.0    -11.0  259994.0   770654.64  242226.0 -11122.0  \n",
      "7   1483.0  1478.0      1.0     -4.0  150764.0   445724.57  238944.0  -3282.0  \n",
      "6   1488.0  1482.0     10.0      4.0  221464.0   656245.70  249748.0  10804.0  \n",
      "5   1494.0  1494.0     12.0     12.0  196112.0   585844.30  264044.0  14296.0  \n",
      "4   1498.0  1496.0      4.0      2.0  161482.0   483162.33  259224.0  -4820.0  \n",
      "3   1477.0  1485.0    -19.0    -11.0  225756.0   670340.94  255000.0  -4224.0  \n",
      "2   1474.0  1478.0    -11.0     -7.0  186516.0   551184.58  253218.0  -1782.0  \n",
      "1   1474.0  1478.0     -4.0      0.0  188586.0   557354.50  250382.0  -2836.0  \n",
      "0   1476.0  1476.0     -2.0     -2.0  133576.0   394403.64  237278.0 -13104.0  \n",
      "BarData(gateway_name='TU', symbol='fg1909', exchange=<Exchange.CZCE: 'CZCE'>, datetime=datetime.datetime(2019, 6, 3, 0, 0), interval=<Interval.MINUTE: '1m'>, volume=678417.45, turnover=0, open_interest=0, open_price=1377.0, high_price=1386.0, low_price=1364.0, close_price=1377.0)\n",
      "BarData(gateway_name='TU', symbol='fg1909', exchange=<Exchange.CZCE: 'CZCE'>, datetime=datetime.datetime(2019, 6, 4, 0, 0), interval=<Interval.MINUTE: '1m'>, volume=662979.02, turnover=0, open_interest=0, open_price=1377.0, high_price=1378.0, low_price=1358.0, close_price=1369.0)\n",
      "BarData(gateway_name='TU', symbol='fg1909', exchange=<Exchange.CZCE: 'CZCE'>, datetime=datetime.datetime(2019, 6, 5, 0, 0), interval=<Interval.MINUTE: '1m'>, volume=416260.12, turnover=0, open_interest=0, open_price=1370.0, high_price=1382.0, low_price=1369.0, close_price=1374.0)\n",
      "BarData(gateway_name='TU', symbol='fg1909', exchange=<Exchange.CZCE: 'CZCE'>, datetime=datetime.datetime(2019, 6, 6, 0, 0), interval=<Interval.MINUTE: '1m'>, volume=809759.79, turnover=0, open_interest=0, open_price=1374.0, high_price=1397.0, low_price=1366.0, close_price=1396.0)\n",
      "BarData(gateway_name='TU', symbol='fg1909', exchange=<Exchange.CZCE: 'CZCE'>, datetime=datetime.datetime(2019, 6, 10, 0, 0), interval=<Interval.MINUTE: '1m'>, volume=529845.83, turnover=0, open_interest=0, open_price=1398.0, high_price=1418.0, low_price=1398.0, close_price=1404.0)\n",
      "BarData(gateway_name='TU', symbol='fg1909', exchange=<Exchange.CZCE: 'CZCE'>, datetime=datetime.datetime(2019, 6, 11, 0, 0), interval=<Interval.MINUTE: '1m'>, volume=1894104.91, turnover=0, open_interest=0, open_price=1410.0, high_price=1463.0, low_price=1410.0, close_price=1463.0)\n",
      "BarData(gateway_name='TU', symbol='fg1909', exchange=<Exchange.CZCE: 'CZCE'>, datetime=datetime.datetime(2019, 6, 12, 0, 0), interval=<Interval.MINUTE: '1m'>, volume=2241456.03, turnover=0, open_interest=0, open_price=1477.0, high_price=1486.0, low_price=1444.0, close_price=1448.0)\n",
      "BarData(gateway_name='TU', symbol='fg1909', exchange=<Exchange.CZCE: 'CZCE'>, datetime=datetime.datetime(2019, 6, 13, 0, 0), interval=<Interval.MINUTE: '1m'>, volume=1062217.76, turnover=0, open_interest=0, open_price=1448.0, high_price=1469.0, low_price=1448.0, close_price=1463.0)\n",
      "BarData(gateway_name='TU', symbol='fg1909', exchange=<Exchange.CZCE: 'CZCE'>, datetime=datetime.datetime(2019, 6, 14, 0, 0), interval=<Interval.MINUTE: '1m'>, volume=802325.0, turnover=0, open_interest=0, open_price=1464.0, high_price=1471.0, low_price=1455.0, close_price=1463.0)\n",
      "BarData(gateway_name='TU', symbol='fg1909', exchange=<Exchange.CZCE: 'CZCE'>, datetime=datetime.datetime(2019, 6, 17, 0, 0), interval=<Interval.MINUTE: '1m'>, volume=878045.98, turnover=0, open_interest=0, open_price=1466.0, high_price=1473.0, low_price=1453.0, close_price=1458.0)\n",
      "BarData(gateway_name='TU', symbol='fg1909', exchange=<Exchange.CZCE: 'CZCE'>, datetime=datetime.datetime(2019, 6, 18, 0, 0), interval=<Interval.MINUTE: '1m'>, volume=798404.78, turnover=0, open_interest=0, open_price=1458.0, high_price=1472.0, low_price=1454.0, close_price=1466.0)\n",
      "BarData(gateway_name='TU', symbol='fg1909', exchange=<Exchange.CZCE: 'CZCE'>, datetime=datetime.datetime(2019, 6, 19, 0, 0), interval=<Interval.MINUTE: '1m'>, volume=1104340.9, turnover=0, open_interest=0, open_price=1468.0, high_price=1482.0, low_price=1461.0, close_price=1476.0)\n",
      "BarData(gateway_name='TU', symbol='fg1909', exchange=<Exchange.CZCE: 'CZCE'>, datetime=datetime.datetime(2019, 6, 20, 0, 0), interval=<Interval.MINUTE: '1m'>, volume=1260563.68, turnover=0, open_interest=0, open_price=1478.0, high_price=1497.0, low_price=1472.0, close_price=1487.0)\n",
      "BarData(gateway_name='TU', symbol='fg1909', exchange=<Exchange.CZCE: 'CZCE'>, datetime=datetime.datetime(2019, 6, 21, 0, 0), interval=<Interval.MINUTE: '1m'>, volume=586665.96, turnover=0, open_interest=0, open_price=1487.0, high_price=1491.0, low_price=1480.0, close_price=1485.0)\n",
      "BarData(gateway_name='TU', symbol='fg1909', exchange=<Exchange.CZCE: 'CZCE'>, datetime=datetime.datetime(2019, 6, 24, 0, 0), interval=<Interval.MINUTE: '1m'>, volume=528080.31, turnover=0, open_interest=0, open_price=1485.0, high_price=1495.0, low_price=1481.0, close_price=1489.0)\n",
      "BarData(gateway_name='TU', symbol='fg1909', exchange=<Exchange.CZCE: 'CZCE'>, datetime=datetime.datetime(2019, 6, 25, 0, 0), interval=<Interval.MINUTE: '1m'>, volume=389326.59, turnover=0, open_interest=0, open_price=1486.0, high_price=1491.0, low_price=1484.0, close_price=1486.0)\n",
      "BarData(gateway_name='TU', symbol='fg1909', exchange=<Exchange.CZCE: 'CZCE'>, datetime=datetime.datetime(2019, 6, 26, 0, 0), interval=<Interval.MINUTE: '1m'>, volume=1409216.14, turnover=0, open_interest=0, open_price=1488.0, high_price=1517.0, low_price=1483.0, close_price=1508.0)\n",
      "BarData(gateway_name='TU', symbol='fg1909', exchange=<Exchange.CZCE: 'CZCE'>, datetime=datetime.datetime(2019, 6, 27, 0, 0), interval=<Interval.MINUTE: '1m'>, volume=637809.14, turnover=0, open_interest=0, open_price=1502.0, high_price=1507.0, low_price=1493.0, close_price=1495.0)\n",
      "BarData(gateway_name='TU', symbol='fg1909', exchange=<Exchange.CZCE: 'CZCE'>, datetime=datetime.datetime(2019, 6, 28, 0, 0), interval=<Interval.MINUTE: '1m'>, volume=674955.5, turnover=0, open_interest=0, open_price=1496.0, high_price=1510.0, low_price=1487.0, close_price=1492.0)\n",
      "BarData(gateway_name='TU', symbol='fg1909', exchange=<Exchange.CZCE: 'CZCE'>, datetime=datetime.datetime(2019, 7, 1, 0, 0), interval=<Interval.MINUTE: '1m'>, volume=602930.06, turnover=0, open_interest=0, open_price=1496.0, high_price=1509.0, low_price=1487.0, close_price=1506.0)\n",
      "BarData(gateway_name='TU', symbol='fg1909', exchange=<Exchange.CZCE: 'CZCE'>, datetime=datetime.datetime(2019, 7, 2, 0, 0), interval=<Interval.MINUTE: '1m'>, volume=875189.42, turnover=0, open_interest=0, open_price=1504.0, high_price=1520.0, low_price=1502.0, close_price=1508.0)\n",
      "BarData(gateway_name='TU', symbol='fg1909', exchange=<Exchange.CZCE: 'CZCE'>, datetime=datetime.datetime(2019, 7, 3, 0, 0), interval=<Interval.MINUTE: '1m'>, volume=1041488.19, turnover=0, open_interest=0, open_price=1505.0, high_price=1514.0, low_price=1480.0, close_price=1485.0)\n",
      "BarData(gateway_name='TU', symbol='fg1909', exchange=<Exchange.CZCE: 'CZCE'>, datetime=datetime.datetime(2019, 7, 4, 0, 0), interval=<Interval.MINUTE: '1m'>, volume=655028.66, turnover=0, open_interest=0, open_price=1488.0, high_price=1493.0, low_price=1479.0, close_price=1488.0)\n",
      "BarData(gateway_name='TU', symbol='fg1909', exchange=<Exchange.CZCE: 'CZCE'>, datetime=datetime.datetime(2019, 7, 5, 0, 0), interval=<Interval.MINUTE: '1m'>, volume=801707.28, turnover=0, open_interest=0, open_price=1489.0, high_price=1496.0, low_price=1474.0, close_price=1483.0)\n",
      "BarData(gateway_name='TU', symbol='fg1909', exchange=<Exchange.CZCE: 'CZCE'>, datetime=datetime.datetime(2019, 7, 8, 0, 0), interval=<Interval.MINUTE: '1m'>, volume=509075.76, turnover=0, open_interest=0, open_price=1481.0, high_price=1490.0, low_price=1480.0, close_price=1489.0)\n",
      "BarData(gateway_name='TU', symbol='fg1909', exchange=<Exchange.CZCE: 'CZCE'>, datetime=datetime.datetime(2019, 7, 9, 0, 0), interval=<Interval.MINUTE: '1m'>, volume=937101.27, turnover=0, open_interest=0, open_price=1489.0, high_price=1511.0, low_price=1489.0, close_price=1503.0)\n",
      "BarData(gateway_name='TU', symbol='fg1909', exchange=<Exchange.CZCE: 'CZCE'>, datetime=datetime.datetime(2019, 7, 10, 0, 0), interval=<Interval.MINUTE: '1m'>, volume=1316512.39, turnover=0, open_interest=0, open_price=1500.0, high_price=1501.0, low_price=1465.0, close_price=1484.0)\n",
      "BarData(gateway_name='TU', symbol='fg1909', exchange=<Exchange.CZCE: 'CZCE'>, datetime=datetime.datetime(2019, 7, 11, 0, 0), interval=<Interval.MINUTE: '1m'>, volume=490217.3, turnover=0, open_interest=0, open_price=1487.0, high_price=1492.0, low_price=1483.0, close_price=1484.0)\n",
      "BarData(gateway_name='TU', symbol='fg1909', exchange=<Exchange.CZCE: 'CZCE'>, datetime=datetime.datetime(2019, 7, 12, 0, 0), interval=<Interval.MINUTE: '1m'>, volume=498020.67, turnover=0, open_interest=0, open_price=1486.0, high_price=1486.0, low_price=1477.0, close_price=1485.0)\n",
      "BarData(gateway_name='TU', symbol='fg1909', exchange=<Exchange.CZCE: 'CZCE'>, datetime=datetime.datetime(2019, 7, 15, 0, 0), interval=<Interval.MINUTE: '1m'>, volume=660263.53, turnover=0, open_interest=0, open_price=1486.0, high_price=1498.0, low_price=1474.0, close_price=1494.0)\n",
      "BarData(gateway_name='TU', symbol='fg1909', exchange=<Exchange.CZCE: 'CZCE'>, datetime=datetime.datetime(2019, 7, 16, 0, 0), interval=<Interval.MINUTE: '1m'>, volume=434267.76, turnover=0, open_interest=0, open_price=1489.0, high_price=1506.0, low_price=1487.0, close_price=1497.0)\n",
      "BarData(gateway_name='TU', symbol='fg1909', exchange=<Exchange.CZCE: 'CZCE'>, datetime=datetime.datetime(2019, 7, 17, 0, 0), interval=<Interval.MINUTE: '1m'>, volume=416920.53, turnover=0, open_interest=0, open_price=1500.0, high_price=1504.0, low_price=1490.0, close_price=1503.0)\n",
      "BarData(gateway_name='TU', symbol='fg1909', exchange=<Exchange.CZCE: 'CZCE'>, datetime=datetime.datetime(2019, 7, 18, 0, 0), interval=<Interval.MINUTE: '1m'>, volume=423269.61, turnover=0, open_interest=0, open_price=1503.0, high_price=1506.0, low_price=1486.0, close_price=1488.0)\n",
      "BarData(gateway_name='TU', symbol='fg1909', exchange=<Exchange.CZCE: 'CZCE'>, datetime=datetime.datetime(2019, 7, 19, 0, 0), interval=<Interval.MINUTE: '1m'>, volume=507284.79, turnover=0, open_interest=0, open_price=1486.0, high_price=1501.0, low_price=1483.0, close_price=1499.0)\n",
      "BarData(gateway_name='TU', symbol='fg1909', exchange=<Exchange.CZCE: 'CZCE'>, datetime=datetime.datetime(2019, 7, 22, 0, 0), interval=<Interval.MINUTE: '1m'>, volume=770654.64, turnover=0, open_interest=0, open_price=1496.0, high_price=1498.0, low_price=1475.0, close_price=1478.0)\n",
      "BarData(gateway_name='TU', symbol='fg1909', exchange=<Exchange.CZCE: 'CZCE'>, datetime=datetime.datetime(2019, 7, 23, 0, 0), interval=<Interval.MINUTE: '1m'>, volume=445724.57, turnover=0, open_interest=0, open_price=1475.0, high_price=1484.0, low_price=1471.0, close_price=1483.0)\n",
      "BarData(gateway_name='TU', symbol='fg1909', exchange=<Exchange.CZCE: 'CZCE'>, datetime=datetime.datetime(2019, 7, 24, 0, 0), interval=<Interval.MINUTE: '1m'>, volume=656245.7, turnover=0, open_interest=0, open_price=1481.0, high_price=1491.0, low_price=1472.0, close_price=1488.0)\n",
      "BarData(gateway_name='TU', symbol='fg1909', exchange=<Exchange.CZCE: 'CZCE'>, datetime=datetime.datetime(2019, 7, 25, 0, 0), interval=<Interval.MINUTE: '1m'>, volume=585844.3, turnover=0, open_interest=0, open_price=1491.0, high_price=1501.0, low_price=1483.0, close_price=1494.0)\n",
      "BarData(gateway_name='TU', symbol='fg1909', exchange=<Exchange.CZCE: 'CZCE'>, datetime=datetime.datetime(2019, 7, 26, 0, 0), interval=<Interval.MINUTE: '1m'>, volume=483162.33, turnover=0, open_interest=0, open_price=1495.0, high_price=1505.0, low_price=1490.0, close_price=1498.0)\n",
      "BarData(gateway_name='TU', symbol='fg1909', exchange=<Exchange.CZCE: 'CZCE'>, datetime=datetime.datetime(2019, 7, 29, 0, 0), interval=<Interval.MINUTE: '1m'>, volume=670340.94, turnover=0, open_interest=0, open_price=1499.0, high_price=1499.0, low_price=1473.0, close_price=1477.0)\n",
      "BarData(gateway_name='TU', symbol='fg1909', exchange=<Exchange.CZCE: 'CZCE'>, datetime=datetime.datetime(2019, 7, 30, 0, 0), interval=<Interval.MINUTE: '1m'>, volume=551184.58, turnover=0, open_interest=0, open_price=1478.0, high_price=1484.0, low_price=1471.0, close_price=1474.0)\n",
      "BarData(gateway_name='TU', symbol='fg1909', exchange=<Exchange.CZCE: 'CZCE'>, datetime=datetime.datetime(2019, 7, 31, 0, 0), interval=<Interval.MINUTE: '1m'>, volume=557354.5, turnover=0, open_interest=0, open_price=1473.0, high_price=1486.0, low_price=1469.0, close_price=1474.0)\n",
      "BarData(gateway_name='TU', symbol='fg1909', exchange=<Exchange.CZCE: 'CZCE'>, datetime=datetime.datetime(2019, 8, 1, 0, 0), interval=<Interval.MINUTE: '1m'>, volume=394403.64, turnover=0, open_interest=0, open_price=1475.0, high_price=1481.0, low_price=1470.0, close_price=1476.0)\n"
     ]
    }
   ],
   "source": [
    "main()"
   ]
  },
  {
   "cell_type": "code",
   "execution_count": null,
   "metadata": {},
   "outputs": [],
   "source": []
  }
 ],
 "metadata": {
  "kernelspec": {
   "display_name": "Python 3",
   "language": "python",
   "name": "python3"
  },
  "language_info": {
   "codemirror_mode": {
    "name": "ipython",
    "version": 3
   },
   "file_extension": ".py",
   "mimetype": "text/x-python",
   "name": "python",
   "nbconvert_exporter": "python",
   "pygments_lexer": "ipython3",
   "version": "3.6.8"
  }
 },
 "nbformat": 4,
 "nbformat_minor": 2
}
